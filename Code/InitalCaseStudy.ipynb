{
 "cells": [
  {
   "cell_type": "code",
   "execution_count": 6,
   "id": "e799e150",
   "metadata": {},
   "outputs": [],
   "source": [
    "# Keanu J. Ammons\n",
    "# Modified on: 6/9/2022\n",
    "\n",
    "\n",
    "# Keanu J. Ammons preliminary study\n",
    "# This code is a prelimary analysis of a parallel computing problem.\n",
    "\n",
    "# Problem statement is as follows:\n",
    "\n",
    "# Find the sum of all the even-valued terms in the Fibonacci sequence\n",
    "# which do not exceed four million.\n",
    "\n",
    "# This inital case problem is easily scaled up or down to increase or decrease the task length and/or computation time of an\n",
    "# algorithim. For these reasons, this case problem makes a good inital situation to study.\n",
    "\n",
    "# The correct answer is 4613732 "
   ]
  },
  {
   "cell_type": "code",
   "execution_count": 7,
   "id": "6b2d5f0e",
   "metadata": {},
   "outputs": [],
   "source": [
    "# External imports:\n",
    "# Note that \"pip install pyRAPL\" and \"pip install pymongo\" is required for this preliminary study\n",
    "# \"pip install py-cpuinfo==5.0.0\" may be necessary when \"pip intsall cpuinfo\" does not work\n",
    "import numpy as np\n",
    "import cpuinfo\n",
    "import psutil\n",
    "import platform\n",
    "import pandas as pd\n",
    "\n",
    "# this import allows functions and commands to be executed simultaneously\n",
    "# this will be useful to ensure timing sequences are started independed of the FibbSolver function\n",
    "# from multiprocessing import Process"
   ]
  },
  {
   "cell_type": "code",
   "execution_count": 8,
   "id": "7d6edcc3",
   "metadata": {},
   "outputs": [],
   "source": [
    "# SINGLE CORE COMPUTATION\n",
    "time_list = []\n",
    "cpu_percentage = []\n",
    "j = 0\n",
    "\n",
    "# Define the inital parameters for the python function"
   ]
  },
  {
   "cell_type": "code",
   "execution_count": 9,
   "id": "05de61cf",
   "metadata": {},
   "outputs": [],
   "source": [
    "# A basic function that performs the test for a specified number of times.\n",
    "\n",
    "def FibbSolver(TestCount):\n",
    "    # This while loop is implmented so that the fibb probelm is solved for a certain number of times\n",
    "    # This was added so that a significant cpu % percantge will be generated (to generate data for the single node case)\n",
    "    i = 0\n",
    "    while i < TestCount:\n",
    "        \n",
    "        # for some reason, import time would not work unless it was in the same cell as the \n",
    "        import time\n",
    "        # SINGLE CORE COMPUTATION\n",
    "        # Set a timer in milseconds to record the time \n",
    "        start_time_miliseconds = round(time.time()* 1000)\n",
    "        fibo_even  = [2]\n",
    "        num1 = 1\n",
    "        num2 = 2\n",
    "        sumNum = num1 + num2\n",
    "        \n",
    "        # document cpu usage information.\n",
    "        # The entire loop will not be complete until a continious data stream of all of the cpu data is gathered\n",
    "        x = psutil.cpu_percent(interval=.25, percpu=False)\n",
    "        cpu_percentage.append(x)\n",
    "        \n",
    "        while sumNum < 4000001:\n",
    "            \n",
    "            # Sum the two numbers in the sequence\n",
    "            sumNum = num1 + num2\n",
    "            \n",
    "            # Directly update the two numbers\n",
    "            num1 = num2\n",
    "            num2 = sumNum\n",
    "            \n",
    "            # Check and see if your current number is odd or even. if even, append to a list\n",
    "            if sumNum % 2 == 0:\n",
    "                fibo_even.append(sumNum)\n",
    "                \n",
    "        # print and sum the final list for the sake of data analysis\n",
    "        #print(\"   --- %s is the sum ---\" % sum(fibo_even))\n",
    "        #print(\"\")\n",
    "        #print(\"Computation time is listed below: \")\n",
    "        #print(\"\")\n",
    "        \n",
    "        # absolute value is used to ensure all delta time values are positive\n",
    "        time = abs(time.time() * 1000 - start_time_miliseconds)\n",
    "        \n",
    "        #optiol print statement\n",
    "        #print(\" --- %s miliseconds ---\" % time)\n",
    "        \n",
    "        time_list.append(time)\n",
    "        i = i + 1"
   ]
  },
  {
   "cell_type": "code",
   "execution_count": 10,
   "id": "c6f41fec",
   "metadata": {},
   "outputs": [
    {
     "name": "stdout",
     "output_type": "stream",
     "text": [
      "\n",
      "These are the computation times for each item in ms:\n",
      "[253.866455078125, 252.23583984375, 259.535888671875, 258.17724609375, 256.47900390625, 261.71533203125, 258.32080078125, 258.541015625, 257.44189453125, 261.7353515625, 261.67236328125, 253.904296875, 257.18408203125, 262.250244140625, 260.098388671875, 257.3427734375, 259.35791015625, 263.603271484375, 259.155517578125, 251.02978515625, 265.18798828125, 260.780029296875, 258.494140625, 260.5947265625, 256.599853515625, 256.52099609375, 260.02490234375, 256.973876953125, 253.32373046875, 256.05908203125, 256.276123046875, 259.10595703125, 255.66552734375, 254.099365234375, 259.118896484375, 257.5498046875, 263.359375, 259.208740234375, 257.408203125, 257.3388671875, 256.5517578125, 256.21142578125, 259.102294921875, 255.8251953125, 257.043212890625, 257.9736328125, 257.631103515625, 255.830322265625, 252.538818359375, 251.2119140625, 256.02587890625, 256.672119140625, 259.509765625, 258.4775390625, 257.96240234375, 257.82763671875, 265.881591796875, 256.37353515625, 256.4150390625, 254.1455078125, 257.193115234375, 257.71826171875, 255.711181640625, 255.400634765625, 255.6435546875, 254.046142578125, 255.112548828125, 250.138427734375, 257.03955078125, 256.8974609375, 258.5390625, 255.3408203125, 258.212646484375, 256.95703125, 258.28173828125, 257.06005859375, 258.96826171875, 256.42822265625, 258.650146484375, 262.31640625, 257.772216796875, 260.181884765625, 256.625732421875, 259.87255859375, 255.890625, 254.47265625, 255.843994140625, 258.590576171875, 255.508544921875, 256.065185546875, 256.449951171875, 255.301513671875, 258.1923828125, 257.52978515625, 260.200439453125, 263.2509765625, 266.683837890625, 257.53564453125, 262.67333984375, 256.382080078125]\n",
      "100\n",
      "\n",
      "This is the compliation time in ms:\n",
      "25767.2275390625\n",
      "\n",
      "This is the cpu usage:\n",
      "[13.2, 16.3, 14.0, 11.5, 12.5, 16.4, 15.8, 12.8, 11.5, 13.1, 17.5, 23.7, 13.1, 12.1, 10.2, 13.3, 19.0, 18.0, 23.8, 17.2, 22.5, 13.1, 22.8, 18.6, 21.7, 33.8, 30.9, 23.3, 10.8, 12.4, 14.7, 18.2, 13.3, 14.6, 11.0, 16.4, 16.8, 12.5, 10.9, 14.7, 28.1, 26.5, 31.8, 27.7, 30.8, 30.0, 26.6, 27.3, 31.7, 29.8, 27.5, 35.0, 38.4, 24.8, 36.5, 29.4, 30.9, 31.3, 29.0, 33.8, 24.8, 27.3, 25.0, 32.8, 40.3, 12.5, 12.5, 15.5, 11.8, 11.7, 17.5, 14.1, 11.8, 16.3, 12.5, 16.3, 10.3, 12.5, 11.9, 16.3, 12.5, 11.0, 10.9, 14.7, 12.5, 12.5, 11.8, 14.1, 15.4, 22.1, 14.8, 13.2, 12.5, 12.5, 11.7, 14.0, 15.3, 12.5, 13.9, 16.4]\n"
     ]
    }
   ],
   "source": [
    "# Conduct a basic test and compute the power behavior of the system\n",
    "TestCount = 100\n",
    "i = 0\n",
    "time_list = []\n",
    "cpu_percentage = []\n",
    "\n",
    "FibbSolver(TestCount)\n",
    "\n",
    "# print to the terminal (so the programmer knows what is going on ;)   )\n",
    "print(\"\")\n",
    "print(\"These are the computation times for each item in ms:\")\n",
    "print(time_list)\n",
    "arr1 = np.array(time_list)\n",
    "\n",
    "# Perform some preliminary data analysis. Reminder that the time is in miliseconds\n",
    "TotalCompTime = arr1.sum()\n",
    "AverageCompTime = arr1.mean()\n",
    "print(len(arr1))\n",
    "\n",
    "print(\"\")\n",
    "print(\"This is the compliation TEST in ms:\")\n",
    "print(TotalCompTime)\n",
    "\n",
    "# provide some basic analytical data for the process\n",
    "# print(\"These are the cpu percentages for the entire operation at each interval.\")\n",
    "# true_cpu_percentage = list(filter(lambda element: element != 0,cpu_percentage))\n",
    "# print(true_cpu_percentage)\n",
    "# print(len(true_cpu_percentage))\n",
    "\n",
    "print(\"\")\n",
    "print(\"This is the cpu usage for each TEST:\")\n",
    "print(cpu_percentage)"
   ]
  },
  {
   "cell_type": "code",
   "execution_count": 11,
   "id": "33692086",
   "metadata": {},
   "outputs": [],
   "source": [
    "# true_cpu_percentage = list(filter(lambda element: element != 0,cpu_percentage))\n",
    "# print(true_cpu_percentage)\n",
    "\n",
    "# Originally, the array was 3121 elements in length with mostly zeros. Therefore, I reasoned that multiple cpu_measurements \n",
    "# were being taken in between each sucessive computation. Since the cpu must be in operation for all moments\n",
    "# in the computation, I wrote a filter expression that dropped all zero elemnets of the array and printed result.\n",
    "\n",
    "# To further justify this decision, the following is a direct excerpt from the psuitil documentation:\n",
    "# the first time this function is called with \n",
    "# interval = 0.0 or None it will return a meaningless 0.0 value which you are supposed to ignore."
   ]
  },
  {
   "cell_type": "code",
   "execution_count": 12,
   "id": "cf577c95",
   "metadata": {},
   "outputs": [
    {
     "name": "stdout",
     "output_type": "stream",
     "text": [
      "100\n"
     ]
    }
   ],
   "source": [
    "print(len(cpu_percentage))"
   ]
  },
  {
   "cell_type": "code",
   "execution_count": 13,
   "id": "e82e6a80",
   "metadata": {},
   "outputs": [
    {
     "name": "stdout",
     "output_type": "stream",
     "text": [
      "100\n"
     ]
    }
   ],
   "source": [
    "print(len(time_list))"
   ]
  },
  {
   "cell_type": "code",
   "execution_count": 48,
   "id": "82ade4fb",
   "metadata": {},
   "outputs": [
    {
     "data": {
      "text/plain": [
       "<Figure size 432x288 with 0 Axes>"
      ]
     },
     "metadata": {},
     "output_type": "display_data"
    }
   ],
   "source": [
    "# Prepare the jupyter workspace for data visualization\n",
    "\n",
    "import seaborn as sns\n",
    "import matplotlib.pyplot as plt\n",
    "%matplotlib inline"
   ]
  },
  {
   "cell_type": "code",
   "execution_count": 20,
   "id": "7f174c90",
   "metadata": {},
   "outputs": [
    {
     "data": {
      "text/html": [
       "<div>\n",
       "<style scoped>\n",
       "    .dataframe tbody tr th:only-of-type {\n",
       "        vertical-align: middle;\n",
       "    }\n",
       "\n",
       "    .dataframe tbody tr th {\n",
       "        vertical-align: top;\n",
       "    }\n",
       "\n",
       "    .dataframe thead th {\n",
       "        text-align: right;\n",
       "    }\n",
       "</style>\n",
       "<table border=\"1\" class=\"dataframe\">\n",
       "  <thead>\n",
       "    <tr style=\"text-align: right;\">\n",
       "      <th></th>\n",
       "      <th>Computation Time ms</th>\n",
       "      <th>CPU % Usage</th>\n",
       "    </tr>\n",
       "    <tr>\n",
       "      <th>Test Number</th>\n",
       "      <th></th>\n",
       "      <th></th>\n",
       "    </tr>\n",
       "  </thead>\n",
       "  <tbody>\n",
       "    <tr>\n",
       "      <th>0</th>\n",
       "      <td>253.866455</td>\n",
       "      <td>13.2</td>\n",
       "    </tr>\n",
       "    <tr>\n",
       "      <th>1</th>\n",
       "      <td>252.235840</td>\n",
       "      <td>16.3</td>\n",
       "    </tr>\n",
       "    <tr>\n",
       "      <th>2</th>\n",
       "      <td>259.535889</td>\n",
       "      <td>14.0</td>\n",
       "    </tr>\n",
       "    <tr>\n",
       "      <th>3</th>\n",
       "      <td>258.177246</td>\n",
       "      <td>11.5</td>\n",
       "    </tr>\n",
       "    <tr>\n",
       "      <th>4</th>\n",
       "      <td>256.479004</td>\n",
       "      <td>12.5</td>\n",
       "    </tr>\n",
       "    <tr>\n",
       "      <th>...</th>\n",
       "      <td>...</td>\n",
       "      <td>...</td>\n",
       "    </tr>\n",
       "    <tr>\n",
       "      <th>95</th>\n",
       "      <td>263.250977</td>\n",
       "      <td>14.0</td>\n",
       "    </tr>\n",
       "    <tr>\n",
       "      <th>96</th>\n",
       "      <td>266.683838</td>\n",
       "      <td>15.3</td>\n",
       "    </tr>\n",
       "    <tr>\n",
       "      <th>97</th>\n",
       "      <td>257.535645</td>\n",
       "      <td>12.5</td>\n",
       "    </tr>\n",
       "    <tr>\n",
       "      <th>98</th>\n",
       "      <td>262.673340</td>\n",
       "      <td>13.9</td>\n",
       "    </tr>\n",
       "    <tr>\n",
       "      <th>99</th>\n",
       "      <td>256.382080</td>\n",
       "      <td>16.4</td>\n",
       "    </tr>\n",
       "  </tbody>\n",
       "</table>\n",
       "<p>100 rows × 2 columns</p>\n",
       "</div>"
      ],
      "text/plain": [
       "             Computation Time ms  CPU % Usage\n",
       "Test Number                                  \n",
       "0                     253.866455         13.2\n",
       "1                     252.235840         16.3\n",
       "2                     259.535889         14.0\n",
       "3                     258.177246         11.5\n",
       "4                     256.479004         12.5\n",
       "...                          ...          ...\n",
       "95                    263.250977         14.0\n",
       "96                    266.683838         15.3\n",
       "97                    257.535645         12.5\n",
       "98                    262.673340         13.9\n",
       "99                    256.382080         16.4\n",
       "\n",
       "[100 rows x 2 columns]"
      ]
     },
     "execution_count": 20,
     "metadata": {},
     "output_type": "execute_result"
    }
   ],
   "source": [
    "df = pd.DataFrame({'Computation Time ms':time_list,'CPU % Usage':cpu_percentage})\n",
    "df.index.name='Test Number'\n",
    "df"
   ]
  },
  {
   "cell_type": "code",
   "execution_count": 70,
   "id": "d21a2245",
   "metadata": {},
   "outputs": [
    {
     "data": {
      "text/plain": [
       "array([ 0.,  1.,  2.,  3.,  4.,  5.,  6.,  7.,  8.,  9., 10., 11., 12.,\n",
       "       13., 14., 15., 16., 17., 18., 19., 20., 21., 22., 23., 24., 25.,\n",
       "       26., 27., 28., 29., 30., 31., 32., 33., 34., 35., 36., 37., 38.,\n",
       "       39., 40., 41., 42., 43., 44., 45., 46., 47., 48., 49., 50., 51.,\n",
       "       52., 53., 54., 55., 56., 57., 58., 59., 60., 61., 62., 63., 64.,\n",
       "       65., 66., 67., 68., 69., 70., 71., 72., 73., 74., 75., 76., 77.,\n",
       "       78., 79., 80., 81., 82., 83., 84., 85., 86., 87., 88., 89., 90.,\n",
       "       91., 92., 93., 94., 95., 96., 97., 98., 99.])"
      ]
     },
     "execution_count": 70,
     "metadata": {},
     "output_type": "execute_result"
    }
   ],
   "source": [
    "np.linspace(0,99,100)"
   ]
  },
  {
   "cell_type": "code",
   "execution_count": 87,
   "id": "ec671b9b",
   "metadata": {},
   "outputs": [
    {
     "data": {
      "image/png": "[encoded data removed]",
      "text/plain": [
       "<Figure size 864x576 with 1 Axes>"
      ]
     },
     "metadata": {
      "needs_background": "light"
     },
     "output_type": "display_data"
    }
   ],
   "source": [
    "# plot the results of the inital test:\n",
    "\n",
    "fig = plt.gcf()\n",
    "\n",
    "# Changing Seaborn Plot size\n",
    "fig.set_size_inches(12, 8)\n",
    "\n",
    "# Making a jittered striplot\n",
    "axis1 = np.linspace(0,99,100)\n",
    "ax = sns.stripplot(x=axis1, y=\"CPU % Usage\", data=df,palette='rainbow', jitter=True)\n",
    "ax.set_xticklabels(axis1,rotation=90)\n",
    "plt.tight_layout()\n",
    "plt.xlabel(\"Test Number\")\n",
    "\n",
    "# Space out the ticks appropriately\n",
    "# This was pulled from stack overflow\n",
    "xticks=ax.xaxis.get_major_ticks()\n",
    "for i in range(len(xticks)):\n",
    "    if i%2==1:\n",
    "        xticks[i].set_visible(False)\n",
    "        \n",
    "# Display the final result\n",
    "plt.show()\n"
   ]
  },
  {
   "cell_type": "code",
   "execution_count": 88,
   "id": "cd6e9c8d",
   "metadata": {
    "scrolled": true
   },
   "outputs": [
    {
     "data": {
      "image/png": "[encoded data removed]",
      "text/plain": [
       "<Figure size 864x576 with 1 Axes>"
      ]
     },
     "metadata": {
      "needs_background": "light"
     },
     "output_type": "display_data"
    }
   ],
   "source": [
    "# plot the results of the inital test:\n",
    "\n",
    "fig = plt.gcf()\n",
    "\n",
    "# Changing Seaborn Plot size\n",
    "fig.set_size_inches(12, 8)\n",
    "\n",
    "# Making a jittered striplot\n",
    "ax2 = sns.stripplot(x=axis1, y=\"Computation Time ms\", data=df,palette='rainbow', jitter=True)\n",
    "ax2.set_xticklabels(axis1,rotation=90)\n",
    "plt.tight_layout()\n",
    "plt.xlabel(\"Test Number\")\n",
    "\n",
    "# Space out the ticks appropriately\n",
    "# This was pulled from stack overflow\n",
    "xticks1=ax2.xaxis.get_major_ticks()\n",
    "for j in range(len(xticks1)):\n",
    "    if j%2==1:\n",
    "        xticks1[j].set_visible(False)\n",
    "\n",
    "# Display the final result\n",
    "plt.show()\n"
   ]
  },
  {
   "cell_type": "code",
   "execution_count": null,
   "id": "75741070",
   "metadata": {},
   "outputs": [],
   "source": []
  }
 ],
 "metadata": {
  "kernelspec": {
   "display_name": "Python 3 (ipykernel)",
   "language": "python",
   "name": "python3"
  },
  "language_info": {
   "codemirror_mode": {
    "name": "ipython",
    "version": 3
   },
   "file_extension": ".py",
   "mimetype": "text/x-python",
   "name": "python",
   "nbconvert_exporter": "python",
   "pygments_lexer": "ipython3",
   "version": "3.9.7"
  }
 },
 "nbformat": 4,
 "nbformat_minor": 5
}
